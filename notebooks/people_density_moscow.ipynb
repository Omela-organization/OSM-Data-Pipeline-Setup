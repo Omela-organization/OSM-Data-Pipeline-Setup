{
 "cells": [
  {
   "cell_type": "markdown",
   "source": [
    "# Расчет плотности населения"
   ],
   "metadata": {
    "collapsed": false
   },
   "id": "abff0e2f74fd98dd"
  },
  {
   "cell_type": "markdown",
   "source": [
    "## Общая информация\n",
    "Для расчета плотности населения используем данные из [kontur](https://data.humdata.org/dataset/kontur-population-dataset).\n",
    "\n",
    "Это датасет, который состоит из векторных шестиугольники H3 с подсчетом численности населения с разрешением 400 м. \n",
    "Кроме того, для более быстрого вычисления плотности можно использовать датасеты с меньшим разрешением 3 км и 22 км соответственно:\n",
    "[kontur-population-dataset-3km](https://data.humdata.org/dataset/kontur-population-dataset-3km) и [kontur-population-dataset-22km](https://data.humdata.org/dataset/kontur-population-dataset-22km). \n",
    "А также можно брать плотность населения для отдельной страны: [https://data.humdata.org/organization/kontur](https://data.humdata.org/organization/kontur)."
   ],
   "metadata": {
    "collapsed": false
   },
   "id": "7d14952f7ceaed4"
  },
  {
   "cell_type": "markdown",
   "source": [
    "## Сам код"
   ],
   "metadata": {
    "collapsed": false
   },
   "id": "6fbc6771b529efb4"
  },
  {
   "cell_type": "markdown",
   "source": [
    "#### Подгрузка population данных"
   ],
   "metadata": {
    "collapsed": false
   },
   "id": "24deeecb616532ca"
  },
  {
   "cell_type": "code",
   "execution_count": 4,
   "outputs": [],
   "source": [
    "import h3\n",
    "import geopandas as gpd"
   ],
   "metadata": {
    "collapsed": false,
    "ExecuteTime": {
     "end_time": "2024-02-17T09:29:48.714394300Z",
     "start_time": "2024-02-17T09:29:48.701262100Z"
    }
   },
   "id": "33ccbe409dd63028"
  },
  {
   "cell_type": "code",
   "execution_count": 5,
   "outputs": [],
   "source": [
    "data_path_input = \"../data/\"\n",
    "kontur_url_400_RU = data_path_input + \"kontur_population_RU_20231101.gpkg\""
   ],
   "metadata": {
    "collapsed": false,
    "ExecuteTime": {
     "end_time": "2024-02-17T09:29:48.732398Z",
     "start_time": "2024-02-17T09:29:48.716392500Z"
    }
   },
   "id": "bdbec75814c42265"
  },
  {
   "cell_type": "code",
   "execution_count": 6,
   "outputs": [],
   "source": [
    "kontur_df_400 = gpd.read_file(kontur_url_400_RU)"
   ],
   "metadata": {
    "collapsed": false,
    "ExecuteTime": {
     "end_time": "2024-02-17T09:31:49.381159900Z",
     "start_time": "2024-02-17T09:29:48.742394Z"
    }
   },
   "id": "431f9aeeeacb669b"
  },
  {
   "cell_type": "code",
   "execution_count": 7,
   "outputs": [
    {
     "data": {
      "text/plain": "                h3  population  \\\n0  88316ebaebfffff        46.0   \n1  88316ebae3fffff        81.0   \n2  88316ebad5fffff        10.0   \n3  88316ebacdfffff       207.0   \n4  88316ebac9fffff        20.0   \n\n                                            geometry  \n0  POLYGON ((14625017.829 5294766.727, 14624986.9...  \n1  POLYGON ((14624549.047 5293694.850, 14624518.0...  \n2  POLYGON ((14627640.639 5293931.207, 14627609.8...  \n3  POLYGON ((14625955.795 5296910.957, 14625924.9...  \n4  POLYGON ((14626986.716 5296989.945, 14626955.9...  ",
      "text/html": "<div>\n<style scoped>\n    .dataframe tbody tr th:only-of-type {\n        vertical-align: middle;\n    }\n\n    .dataframe tbody tr th {\n        vertical-align: top;\n    }\n\n    .dataframe thead th {\n        text-align: right;\n    }\n</style>\n<table border=\"1\" class=\"dataframe\">\n  <thead>\n    <tr style=\"text-align: right;\">\n      <th></th>\n      <th>h3</th>\n      <th>population</th>\n      <th>geometry</th>\n    </tr>\n  </thead>\n  <tbody>\n    <tr>\n      <th>0</th>\n      <td>88316ebaebfffff</td>\n      <td>46.0</td>\n      <td>POLYGON ((14625017.829 5294766.727, 14624986.9...</td>\n    </tr>\n    <tr>\n      <th>1</th>\n      <td>88316ebae3fffff</td>\n      <td>81.0</td>\n      <td>POLYGON ((14624549.047 5293694.850, 14624518.0...</td>\n    </tr>\n    <tr>\n      <th>2</th>\n      <td>88316ebad5fffff</td>\n      <td>10.0</td>\n      <td>POLYGON ((14627640.639 5293931.207, 14627609.8...</td>\n    </tr>\n    <tr>\n      <th>3</th>\n      <td>88316ebacdfffff</td>\n      <td>207.0</td>\n      <td>POLYGON ((14625955.795 5296910.957, 14625924.9...</td>\n    </tr>\n    <tr>\n      <th>4</th>\n      <td>88316ebac9fffff</td>\n      <td>20.0</td>\n      <td>POLYGON ((14626986.716 5296989.945, 14626955.9...</td>\n    </tr>\n  </tbody>\n</table>\n</div>"
     },
     "execution_count": 7,
     "metadata": {},
     "output_type": "execute_result"
    }
   ],
   "source": [
    "kontur_df_400.head()"
   ],
   "metadata": {
    "collapsed": false,
    "ExecuteTime": {
     "end_time": "2024-02-17T09:31:49.433191400Z",
     "start_time": "2024-02-17T09:31:49.383189900Z"
    }
   },
   "id": "e002f6641f9f931b"
  },
  {
   "cell_type": "code",
   "execution_count": 8,
   "outputs": [
    {
     "data": {
      "text/plain": "<Projected CRS: EPSG:3857>\nName: WGS 84 / Pseudo-Mercator\nAxis Info [cartesian]:\n- X[east]: Easting (metre)\n- Y[north]: Northing (metre)\nArea of Use:\n- name: World between 85.06°S and 85.06°N.\n- bounds: (-180.0, -85.06, 180.0, 85.06)\nCoordinate Operation:\n- name: Popular Visualisation Pseudo-Mercator\n- method: Popular Visualisation Pseudo Mercator\nDatum: World Geodetic System 1984 ensemble\n- Ellipsoid: WGS 84\n- Prime Meridian: Greenwich"
     },
     "execution_count": 8,
     "metadata": {},
     "output_type": "execute_result"
    }
   ],
   "source": [
    "kontur_df_400.crs"
   ],
   "metadata": {
    "collapsed": false,
    "ExecuteTime": {
     "end_time": "2024-02-17T09:31:49.473195600Z",
     "start_time": "2024-02-17T09:31:49.413160300Z"
    }
   },
   "id": "fc66920541e78953"
  },
  {
   "cell_type": "markdown",
   "source": [
    "#### Подгрузим DataFrame с административным делением Москвы"
   ],
   "metadata": {
    "collapsed": false
   },
   "id": "985a01901f4e1436"
  },
  {
   "cell_type": "code",
   "execution_count": 9,
   "id": "initial_id",
   "metadata": {
    "collapsed": true,
    "ExecuteTime": {
     "end_time": "2024-02-17T09:31:49.513196600Z",
     "start_time": "2024-02-17T09:31:49.431159600Z"
    }
   },
   "outputs": [],
   "source": [
    "mo_data_url = data_path_input+'mo.geojson'"
   ]
  },
  {
   "cell_type": "code",
   "execution_count": 10,
   "outputs": [],
   "source": [
    "mp_gdf = gpd.read_file(mo_data_url)"
   ],
   "metadata": {
    "collapsed": false,
    "ExecuteTime": {
     "end_time": "2024-02-17T09:31:49.759331700Z",
     "start_time": "2024-02-17T09:31:49.446162400Z"
    }
   },
   "id": "16fa0373ef046d61"
  },
  {
   "cell_type": "code",
   "execution_count": 11,
   "outputs": [
    {
     "data": {
      "text/plain": "              NAME     OKATO     OKTMO         NAME_AO  OKATO_AO  \\\n0         Киевский  45298555  45945000        Троицкий  45298000   \n1   Филёвский Парк  45268595  45328000        Западный  45268000   \n2  Новофёдоровское  45298567  45954000        Троицкий  45298000   \n3        Роговское  45298575  45956000        Троицкий  45298000   \n4     \"Мосрентген\"  45297568  45953000  Новомосковский  45297000   \n\n        ABBREV_AO              TYPE_MO  \\\n0        Троицкий            Поселение   \n1             ЗАО  Муниципальный округ   \n2        Троицкий            Поселение   \n3        Троицкий            Поселение   \n4  Новомосковский            Поселение   \n\n                                            geometry  \n0  MULTIPOLYGON (((36.80310 55.44083, 36.80319 55...  \n1  POLYGON ((37.42765 55.74821, 37.42849 55.74875...  \n2  POLYGON ((36.80357 55.45162, 36.80451 55.46551...  \n3  POLYGON ((36.93724 55.24139, 36.93726 55.24161...  \n4  POLYGON ((37.43956 55.62731, 37.44018 55.63042...  ",
      "text/html": "<div>\n<style scoped>\n    .dataframe tbody tr th:only-of-type {\n        vertical-align: middle;\n    }\n\n    .dataframe tbody tr th {\n        vertical-align: top;\n    }\n\n    .dataframe thead th {\n        text-align: right;\n    }\n</style>\n<table border=\"1\" class=\"dataframe\">\n  <thead>\n    <tr style=\"text-align: right;\">\n      <th></th>\n      <th>NAME</th>\n      <th>OKATO</th>\n      <th>OKTMO</th>\n      <th>NAME_AO</th>\n      <th>OKATO_AO</th>\n      <th>ABBREV_AO</th>\n      <th>TYPE_MO</th>\n      <th>geometry</th>\n    </tr>\n  </thead>\n  <tbody>\n    <tr>\n      <th>0</th>\n      <td>Киевский</td>\n      <td>45298555</td>\n      <td>45945000</td>\n      <td>Троицкий</td>\n      <td>45298000</td>\n      <td>Троицкий</td>\n      <td>Поселение</td>\n      <td>MULTIPOLYGON (((36.80310 55.44083, 36.80319 55...</td>\n    </tr>\n    <tr>\n      <th>1</th>\n      <td>Филёвский Парк</td>\n      <td>45268595</td>\n      <td>45328000</td>\n      <td>Западный</td>\n      <td>45268000</td>\n      <td>ЗАО</td>\n      <td>Муниципальный округ</td>\n      <td>POLYGON ((37.42765 55.74821, 37.42849 55.74875...</td>\n    </tr>\n    <tr>\n      <th>2</th>\n      <td>Новофёдоровское</td>\n      <td>45298567</td>\n      <td>45954000</td>\n      <td>Троицкий</td>\n      <td>45298000</td>\n      <td>Троицкий</td>\n      <td>Поселение</td>\n      <td>POLYGON ((36.80357 55.45162, 36.80451 55.46551...</td>\n    </tr>\n    <tr>\n      <th>3</th>\n      <td>Роговское</td>\n      <td>45298575</td>\n      <td>45956000</td>\n      <td>Троицкий</td>\n      <td>45298000</td>\n      <td>Троицкий</td>\n      <td>Поселение</td>\n      <td>POLYGON ((36.93724 55.24139, 36.93726 55.24161...</td>\n    </tr>\n    <tr>\n      <th>4</th>\n      <td>\"Мосрентген\"</td>\n      <td>45297568</td>\n      <td>45953000</td>\n      <td>Новомосковский</td>\n      <td>45297000</td>\n      <td>Новомосковский</td>\n      <td>Поселение</td>\n      <td>POLYGON ((37.43956 55.62731, 37.44018 55.63042...</td>\n    </tr>\n  </tbody>\n</table>\n</div>"
     },
     "execution_count": 11,
     "metadata": {},
     "output_type": "execute_result"
    }
   ],
   "source": [
    "mp_gdf.head()"
   ],
   "metadata": {
    "collapsed": false,
    "ExecuteTime": {
     "end_time": "2024-02-17T09:31:49.807444600Z",
     "start_time": "2024-02-17T09:31:49.762333600Z"
    }
   },
   "id": "f94feb37a876363c"
  },
  {
   "cell_type": "code",
   "execution_count": 12,
   "outputs": [
    {
     "data": {
      "text/plain": "<Geographic 2D CRS: EPSG:4326>\nName: WGS 84\nAxis Info [ellipsoidal]:\n- Lat[north]: Geodetic latitude (degree)\n- Lon[east]: Geodetic longitude (degree)\nArea of Use:\n- name: World.\n- bounds: (-180.0, -90.0, 180.0, 90.0)\nDatum: World Geodetic System 1984 ensemble\n- Ellipsoid: WGS 84\n- Prime Meridian: Greenwich"
     },
     "execution_count": 12,
     "metadata": {},
     "output_type": "execute_result"
    }
   ],
   "source": [
    "mp_gdf.crs"
   ],
   "metadata": {
    "collapsed": false,
    "ExecuteTime": {
     "end_time": "2024-02-17T09:31:49.836477100Z",
     "start_time": "2024-02-17T09:31:49.794445Z"
    }
   },
   "id": "ec5cadc9a8c59a94"
  },
  {
   "cell_type": "markdown",
   "source": [
    "Видим, что данные границ районов и плотности населения в разных системах координат. \n",
    "Поэтому переведем все в одну систему координат. Датафрейм с районами Москвы находится \n",
    "в EPSG:4326 системе координат, которая является самой простой, но недостаточно точной \n",
    "для России. Датафрейм с плотностью населения находится WSG-84. Наиболее точной и подходящей \n",
    "будет ESPG:32637."
   ],
   "metadata": {
    "collapsed": false
   },
   "id": "48e021486633bfbe"
  },
  {
   "cell_type": "code",
   "execution_count": 13,
   "outputs": [],
   "source": [
    "kontur_df_400.to_crs('epsg:32637', inplace=True)\n",
    "mp_gdf.to_crs('epsg:32637', inplace=True)"
   ],
   "metadata": {
    "collapsed": false,
    "ExecuteTime": {
     "end_time": "2024-02-17T09:31:53.994913200Z",
     "start_time": "2024-02-17T09:31:49.818446200Z"
    }
   },
   "id": "dd8142281f630c04"
  },
  {
   "cell_type": "markdown",
   "source": [
    "Теперь вычислим плотность каждого района"
   ],
   "metadata": {
    "collapsed": false
   },
   "id": "352f1ba22499ef1"
  },
  {
   "cell_type": "code",
   "execution_count": 14,
   "outputs": [],
   "source": [
    "mp_gdf['density'] = mp_gdf.geometry.apply(lambda x: kontur_df_400[kontur_df_400.within(x)].population.mean())"
   ],
   "metadata": {
    "collapsed": false,
    "ExecuteTime": {
     "end_time": "2024-02-17T09:32:07.488383200Z",
     "start_time": "2024-02-17T09:31:53.998888200Z"
    }
   },
   "id": "8129be056e9ed8c"
  },
  {
   "cell_type": "code",
   "execution_count": 15,
   "outputs": [
    {
     "data": {
      "text/plain": "              NAME     OKATO     OKTMO         NAME_AO  OKATO_AO  \\\n0         Киевский  45298555  45945000        Троицкий  45298000   \n1   Филёвский Парк  45268595  45328000        Западный  45268000   \n2  Новофёдоровское  45298567  45954000        Троицкий  45298000   \n3        Роговское  45298575  45956000        Троицкий  45298000   \n4     \"Мосрентген\"  45297568  45953000  Новомосковский  45297000   \n\n        ABBREV_AO              TYPE_MO  \\\n0        Троицкий            Поселение   \n1             ЗАО  Муниципальный округ   \n2        Троицкий            Поселение   \n3        Троицкий            Поселение   \n4  Новомосковский            Поселение   \n\n                                            geometry      density  \n0  MULTIPOLYGON (((361024.612 6146042.994, 361033...   186.833333  \n1  POLYGON ((401303.896 6179176.113, 401357.980 6...  7602.750000  \n2  POLYGON ((361092.260 6147242.530, 361200.499 6...   105.858407  \n3  POLYGON ((368851.532 6123593.484, 368853.528 6...    66.228814  \n4  POLYGON ((401748.704 6165705.878, 401795.516 6...  6326.000000  ",
      "text/html": "<div>\n<style scoped>\n    .dataframe tbody tr th:only-of-type {\n        vertical-align: middle;\n    }\n\n    .dataframe tbody tr th {\n        vertical-align: top;\n    }\n\n    .dataframe thead th {\n        text-align: right;\n    }\n</style>\n<table border=\"1\" class=\"dataframe\">\n  <thead>\n    <tr style=\"text-align: right;\">\n      <th></th>\n      <th>NAME</th>\n      <th>OKATO</th>\n      <th>OKTMO</th>\n      <th>NAME_AO</th>\n      <th>OKATO_AO</th>\n      <th>ABBREV_AO</th>\n      <th>TYPE_MO</th>\n      <th>geometry</th>\n      <th>density</th>\n    </tr>\n  </thead>\n  <tbody>\n    <tr>\n      <th>0</th>\n      <td>Киевский</td>\n      <td>45298555</td>\n      <td>45945000</td>\n      <td>Троицкий</td>\n      <td>45298000</td>\n      <td>Троицкий</td>\n      <td>Поселение</td>\n      <td>MULTIPOLYGON (((361024.612 6146042.994, 361033...</td>\n      <td>186.833333</td>\n    </tr>\n    <tr>\n      <th>1</th>\n      <td>Филёвский Парк</td>\n      <td>45268595</td>\n      <td>45328000</td>\n      <td>Западный</td>\n      <td>45268000</td>\n      <td>ЗАО</td>\n      <td>Муниципальный округ</td>\n      <td>POLYGON ((401303.896 6179176.113, 401357.980 6...</td>\n      <td>7602.750000</td>\n    </tr>\n    <tr>\n      <th>2</th>\n      <td>Новофёдоровское</td>\n      <td>45298567</td>\n      <td>45954000</td>\n      <td>Троицкий</td>\n      <td>45298000</td>\n      <td>Троицкий</td>\n      <td>Поселение</td>\n      <td>POLYGON ((361092.260 6147242.530, 361200.499 6...</td>\n      <td>105.858407</td>\n    </tr>\n    <tr>\n      <th>3</th>\n      <td>Роговское</td>\n      <td>45298575</td>\n      <td>45956000</td>\n      <td>Троицкий</td>\n      <td>45298000</td>\n      <td>Троицкий</td>\n      <td>Поселение</td>\n      <td>POLYGON ((368851.532 6123593.484, 368853.528 6...</td>\n      <td>66.228814</td>\n    </tr>\n    <tr>\n      <th>4</th>\n      <td>\"Мосрентген\"</td>\n      <td>45297568</td>\n      <td>45953000</td>\n      <td>Новомосковский</td>\n      <td>45297000</td>\n      <td>Новомосковский</td>\n      <td>Поселение</td>\n      <td>POLYGON ((401748.704 6165705.878, 401795.516 6...</td>\n      <td>6326.000000</td>\n    </tr>\n  </tbody>\n</table>\n</div>"
     },
     "execution_count": 15,
     "metadata": {},
     "output_type": "execute_result"
    }
   ],
   "source": [
    "mp_gdf.head()"
   ],
   "metadata": {
    "collapsed": false,
    "ExecuteTime": {
     "end_time": "2024-02-17T09:32:07.537365900Z",
     "start_time": "2024-02-17T09:32:07.490395800Z"
    }
   },
   "id": "752fde555c294f83"
  },
  {
   "cell_type": "code",
   "execution_count": 16,
   "outputs": [],
   "source": [
    "with open(data_path_input+'population_density.geojson', 'w') as file:\n",
    "    file.write(mp_gdf.to_json())"
   ],
   "metadata": {
    "collapsed": false,
    "ExecuteTime": {
     "end_time": "2024-02-17T09:32:07.663371Z",
     "start_time": "2024-02-17T09:32:07.523368400Z"
    }
   },
   "id": "beaf0382082eb3d4"
  },
  {
   "cell_type": "code",
   "execution_count": 16,
   "outputs": [],
   "source": [],
   "metadata": {
    "collapsed": false,
    "ExecuteTime": {
     "end_time": "2024-02-17T09:32:07.664364700Z",
     "start_time": "2024-02-17T09:32:07.646364100Z"
    }
   },
   "id": "7005607b7362cfe1"
  }
 ],
 "metadata": {
  "kernelspec": {
   "display_name": "Python 3",
   "language": "python",
   "name": "python3"
  },
  "language_info": {
   "codemirror_mode": {
    "name": "ipython",
    "version": 2
   },
   "file_extension": ".py",
   "mimetype": "text/x-python",
   "name": "python",
   "nbconvert_exporter": "python",
   "pygments_lexer": "ipython2",
   "version": "2.7.6"
  }
 },
 "nbformat": 4,
 "nbformat_minor": 5
}
